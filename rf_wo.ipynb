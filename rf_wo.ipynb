{
  "nbformat": 4,
  "nbformat_minor": 0,
  "metadata": {
    "colab": {
      "provenance": []
    },
    "kernelspec": {
      "name": "python3",
      "display_name": "Python 3"
    },
    "language_info": {
      "name": "python"
    }
  },
  "cells": [
    {
      "cell_type": "code",
      "execution_count": 10,
      "metadata": {
        "id": "LRYZci46YJa_"
      },
      "outputs": [],
      "source": [
        "import pandas as pd\n",
        "import numpy as np\n",
        "import matplotlib.pyplot as plt\n",
        "%matplotlib inline\n",
        "import seaborn as sns"
      ]
    },
    {
      "cell_type": "code",
      "source": [
        "from google.colab import drive\n",
        "drive.mount(\"/content/drive\")"
      ],
      "metadata": {
        "colab": {
          "base_uri": "https://localhost:8080/"
        },
        "id": "FyXheYzaYNO8",
        "outputId": "2d086d9a-90e4-43f9-b802-dc1c8807ade0"
      },
      "execution_count": 11,
      "outputs": [
        {
          "output_type": "stream",
          "name": "stdout",
          "text": [
            "Drive already mounted at /content/drive; to attempt to forcibly remount, call drive.mount(\"/content/drive\", force_remount=True).\n"
          ]
        }
      ]
    },
    {
      "cell_type": "code",
      "source": [
        "df=pd.read_csv(\"/content/drive/MyDrive/TrainData/Train_Vehicle.csv\")"
      ],
      "metadata": {
        "id": "9J6PAzAhYR2V"
      },
      "execution_count": 12,
      "outputs": []
    },
    {
      "cell_type": "code",
      "source": [
        "df1=df.pivot_table(\"VehicleAttributeDetails\", [\"CustomerID\"], \"VehicleAttribute\", aggfunc=\"first\") .reset_index() .rename_axis(columns=None)\n",
        "df1 "
      ],
      "metadata": {
        "id": "bubnAGg-YR6m",
        "colab": {
          "base_uri": "https://localhost:8080/",
          "height": 423
        },
        "outputId": "5edcf758-84d5-4a93-d723-3e627955c6c9"
      },
      "execution_count": 13,
      "outputs": [
        {
          "output_type": "execute_result",
          "data": {
            "text/plain": [
              "      CustomerID     VehicleID VehicleMake VehicleModel VehicleYOM\n",
              "0      Cust10000  Vehicle26917        Audi           A5       2008\n",
              "1      Cust10001  Vehicle15893        Audi           A5       2006\n",
              "2      Cust10002   Vehicle5152  Volkswagen        Jetta       1999\n",
              "3      Cust10003  Vehicle37363  Volkswagen        Jetta       2003\n",
              "4      Cust10004  Vehicle28633      Toyota          CRV       2010\n",
              "...          ...           ...         ...          ...        ...\n",
              "28831   Cust9993  Vehicle13568      Suburu      Impreza       2007\n",
              "28832   Cust9994  Vehicle19810        Jeep     Wrangler       2003\n",
              "28833   Cust9996   Vehicle3339      Suburu       Legacy       2004\n",
              "28834   Cust9997  Vehicle10240      Suburu    Forrestor       2004\n",
              "28835   Cust9999  Vehicle39163      Suburu         E400       2007\n",
              "\n",
              "[28836 rows x 5 columns]"
            ],
            "text/html": [
              "\n",
              "  <div id=\"df-f348681d-df2d-4956-9c63-94eb03625723\">\n",
              "    <div class=\"colab-df-container\">\n",
              "      <div>\n",
              "<style scoped>\n",
              "    .dataframe tbody tr th:only-of-type {\n",
              "        vertical-align: middle;\n",
              "    }\n",
              "\n",
              "    .dataframe tbody tr th {\n",
              "        vertical-align: top;\n",
              "    }\n",
              "\n",
              "    .dataframe thead th {\n",
              "        text-align: right;\n",
              "    }\n",
              "</style>\n",
              "<table border=\"1\" class=\"dataframe\">\n",
              "  <thead>\n",
              "    <tr style=\"text-align: right;\">\n",
              "      <th></th>\n",
              "      <th>CustomerID</th>\n",
              "      <th>VehicleID</th>\n",
              "      <th>VehicleMake</th>\n",
              "      <th>VehicleModel</th>\n",
              "      <th>VehicleYOM</th>\n",
              "    </tr>\n",
              "  </thead>\n",
              "  <tbody>\n",
              "    <tr>\n",
              "      <th>0</th>\n",
              "      <td>Cust10000</td>\n",
              "      <td>Vehicle26917</td>\n",
              "      <td>Audi</td>\n",
              "      <td>A5</td>\n",
              "      <td>2008</td>\n",
              "    </tr>\n",
              "    <tr>\n",
              "      <th>1</th>\n",
              "      <td>Cust10001</td>\n",
              "      <td>Vehicle15893</td>\n",
              "      <td>Audi</td>\n",
              "      <td>A5</td>\n",
              "      <td>2006</td>\n",
              "    </tr>\n",
              "    <tr>\n",
              "      <th>2</th>\n",
              "      <td>Cust10002</td>\n",
              "      <td>Vehicle5152</td>\n",
              "      <td>Volkswagen</td>\n",
              "      <td>Jetta</td>\n",
              "      <td>1999</td>\n",
              "    </tr>\n",
              "    <tr>\n",
              "      <th>3</th>\n",
              "      <td>Cust10003</td>\n",
              "      <td>Vehicle37363</td>\n",
              "      <td>Volkswagen</td>\n",
              "      <td>Jetta</td>\n",
              "      <td>2003</td>\n",
              "    </tr>\n",
              "    <tr>\n",
              "      <th>4</th>\n",
              "      <td>Cust10004</td>\n",
              "      <td>Vehicle28633</td>\n",
              "      <td>Toyota</td>\n",
              "      <td>CRV</td>\n",
              "      <td>2010</td>\n",
              "    </tr>\n",
              "    <tr>\n",
              "      <th>...</th>\n",
              "      <td>...</td>\n",
              "      <td>...</td>\n",
              "      <td>...</td>\n",
              "      <td>...</td>\n",
              "      <td>...</td>\n",
              "    </tr>\n",
              "    <tr>\n",
              "      <th>28831</th>\n",
              "      <td>Cust9993</td>\n",
              "      <td>Vehicle13568</td>\n",
              "      <td>Suburu</td>\n",
              "      <td>Impreza</td>\n",
              "      <td>2007</td>\n",
              "    </tr>\n",
              "    <tr>\n",
              "      <th>28832</th>\n",
              "      <td>Cust9994</td>\n",
              "      <td>Vehicle19810</td>\n",
              "      <td>Jeep</td>\n",
              "      <td>Wrangler</td>\n",
              "      <td>2003</td>\n",
              "    </tr>\n",
              "    <tr>\n",
              "      <th>28833</th>\n",
              "      <td>Cust9996</td>\n",
              "      <td>Vehicle3339</td>\n",
              "      <td>Suburu</td>\n",
              "      <td>Legacy</td>\n",
              "      <td>2004</td>\n",
              "    </tr>\n",
              "    <tr>\n",
              "      <th>28834</th>\n",
              "      <td>Cust9997</td>\n",
              "      <td>Vehicle10240</td>\n",
              "      <td>Suburu</td>\n",
              "      <td>Forrestor</td>\n",
              "      <td>2004</td>\n",
              "    </tr>\n",
              "    <tr>\n",
              "      <th>28835</th>\n",
              "      <td>Cust9999</td>\n",
              "      <td>Vehicle39163</td>\n",
              "      <td>Suburu</td>\n",
              "      <td>E400</td>\n",
              "      <td>2007</td>\n",
              "    </tr>\n",
              "  </tbody>\n",
              "</table>\n",
              "<p>28836 rows × 5 columns</p>\n",
              "</div>\n",
              "      <button class=\"colab-df-convert\" onclick=\"convertToInteractive('df-f348681d-df2d-4956-9c63-94eb03625723')\"\n",
              "              title=\"Convert this dataframe to an interactive table.\"\n",
              "              style=\"display:none;\">\n",
              "        \n",
              "  <svg xmlns=\"http://www.w3.org/2000/svg\" height=\"24px\"viewBox=\"0 0 24 24\"\n",
              "       width=\"24px\">\n",
              "    <path d=\"M0 0h24v24H0V0z\" fill=\"none\"/>\n",
              "    <path d=\"M18.56 5.44l.94 2.06.94-2.06 2.06-.94-2.06-.94-.94-2.06-.94 2.06-2.06.94zm-11 1L8.5 8.5l.94-2.06 2.06-.94-2.06-.94L8.5 2.5l-.94 2.06-2.06.94zm10 10l.94 2.06.94-2.06 2.06-.94-2.06-.94-.94-2.06-.94 2.06-2.06.94z\"/><path d=\"M17.41 7.96l-1.37-1.37c-.4-.4-.92-.59-1.43-.59-.52 0-1.04.2-1.43.59L10.3 9.45l-7.72 7.72c-.78.78-.78 2.05 0 2.83L4 21.41c.39.39.9.59 1.41.59.51 0 1.02-.2 1.41-.59l7.78-7.78 2.81-2.81c.8-.78.8-2.07 0-2.86zM5.41 20L4 18.59l7.72-7.72 1.47 1.35L5.41 20z\"/>\n",
              "  </svg>\n",
              "      </button>\n",
              "      \n",
              "  <style>\n",
              "    .colab-df-container {\n",
              "      display:flex;\n",
              "      flex-wrap:wrap;\n",
              "      gap: 12px;\n",
              "    }\n",
              "\n",
              "    .colab-df-convert {\n",
              "      background-color: #E8F0FE;\n",
              "      border: none;\n",
              "      border-radius: 50%;\n",
              "      cursor: pointer;\n",
              "      display: none;\n",
              "      fill: #1967D2;\n",
              "      height: 32px;\n",
              "      padding: 0 0 0 0;\n",
              "      width: 32px;\n",
              "    }\n",
              "\n",
              "    .colab-df-convert:hover {\n",
              "      background-color: #E2EBFA;\n",
              "      box-shadow: 0px 1px 2px rgba(60, 64, 67, 0.3), 0px 1px 3px 1px rgba(60, 64, 67, 0.15);\n",
              "      fill: #174EA6;\n",
              "    }\n",
              "\n",
              "    [theme=dark] .colab-df-convert {\n",
              "      background-color: #3B4455;\n",
              "      fill: #D2E3FC;\n",
              "    }\n",
              "\n",
              "    [theme=dark] .colab-df-convert:hover {\n",
              "      background-color: #434B5C;\n",
              "      box-shadow: 0px 1px 3px 1px rgba(0, 0, 0, 0.15);\n",
              "      filter: drop-shadow(0px 1px 2px rgba(0, 0, 0, 0.3));\n",
              "      fill: #FFFFFF;\n",
              "    }\n",
              "  </style>\n",
              "\n",
              "      <script>\n",
              "        const buttonEl =\n",
              "          document.querySelector('#df-f348681d-df2d-4956-9c63-94eb03625723 button.colab-df-convert');\n",
              "        buttonEl.style.display =\n",
              "          google.colab.kernel.accessAllowed ? 'block' : 'none';\n",
              "\n",
              "        async function convertToInteractive(key) {\n",
              "          const element = document.querySelector('#df-f348681d-df2d-4956-9c63-94eb03625723');\n",
              "          const dataTable =\n",
              "            await google.colab.kernel.invokeFunction('convertToInteractive',\n",
              "                                                     [key], {});\n",
              "          if (!dataTable) return;\n",
              "\n",
              "          const docLinkHtml = 'Like what you see? Visit the ' +\n",
              "            '<a target=\"_blank\" href=https://colab.research.google.com/notebooks/data_table.ipynb>data table notebook</a>'\n",
              "            + ' to learn more about interactive tables.';\n",
              "          element.innerHTML = '';\n",
              "          dataTable['output_type'] = 'display_data';\n",
              "          await google.colab.output.renderOutput(dataTable, element);\n",
              "          const docLink = document.createElement('div');\n",
              "          docLink.innerHTML = docLinkHtml;\n",
              "          element.appendChild(docLink);\n",
              "        }\n",
              "      </script>\n",
              "    </div>\n",
              "  </div>\n",
              "  "
            ]
          },
          "metadata": {},
          "execution_count": 13
        }
      ]
    },
    {
      "cell_type": "code",
      "source": [
        "#Reading files using pandas\n",
        "df1=pd.read_csv(\"/content/drive/MyDrive/TrainData/Train_Claim.csv\")\n",
        "df2=pd.read_csv(\"/content/drive/MyDrive/TrainData/Train_Demographics.csv\")\n",
        "df3=pd.read_csv(\"/content/drive/MyDrive/TrainData/Train_Policy.csv\")\n",
        "df4=pd.read_csv(\"/content/drive/MyDrive/TrainData/Train_Vehicle_new.csv\")\n",
        "df5=pd.read_csv(\"/content/drive/MyDrive/TrainData/Traindata_with_Target.csv\")"
      ],
      "metadata": {
        "id": "r3fJMo3UYR-D"
      },
      "execution_count": 14,
      "outputs": []
    },
    {
      "cell_type": "code",
      "source": [
        "#checking shape of each datasets\n",
        "print(\"df1:\",df1.shape)\n",
        "print(\"df2:\",df2.shape)\n",
        "print(\"df3:\",df3.shape)\n",
        "print(\"df4:\",df4.shape)\n",
        "print(\"df5:\",df5.shape)"
      ],
      "metadata": {
        "colab": {
          "base_uri": "https://localhost:8080/"
        },
        "id": "XvEc_lQhYrKe",
        "outputId": "42411a16-5fd2-42f0-9ad5-f63de4f14323"
      },
      "execution_count": 15,
      "outputs": [
        {
          "output_type": "stream",
          "name": "stdout",
          "text": [
            "df1: (28836, 19)\n",
            "df2: (28836, 10)\n",
            "df3: (28836, 10)\n",
            "df4: (28836, 5)\n",
            "df5: (28836, 2)\n"
          ]
        }
      ]
    },
    {
      "cell_type": "code",
      "source": [
        "#merging all datasets based on \"CstomerID\"\n",
        "sample_1=pd.merge(df1,df2)\n",
        "sample_2=pd.merge(sample_1,df3)\n",
        "sample_3=pd.merge(sample_2,df4)\n",
        "master=pd.merge(sample_3,df5)"
      ],
      "metadata": {
        "id": "5FEPTdV6YtfV"
      },
      "execution_count": 16,
      "outputs": []
    },
    {
      "cell_type": "code",
      "source": [
        "master.head()"
      ],
      "metadata": {
        "id": "y0gbh4IuYx69",
        "colab": {
          "base_uri": "https://localhost:8080/",
          "height": 386
        },
        "outputId": "06ebc06b-86ea-4343-f9e1-7c6bccba339a"
      },
      "execution_count": 17,
      "outputs": [
        {
          "output_type": "execute_result",
          "data": {
            "text/plain": [
              "  CustomerID DateOfIncident            TypeOfIncident TypeOfCollission  \\\n",
              "0  Cust10000     2015-02-03   Multi-vehicle Collision   Side Collision   \n",
              "1  Cust10001     2015-02-02   Multi-vehicle Collision   Side Collision   \n",
              "2  Cust10002     2015-01-15  Single Vehicle Collision   Side Collision   \n",
              "3  Cust10003     2015-01-19  Single Vehicle Collision   Side Collision   \n",
              "4  Cust10004     2015-01-09  Single Vehicle Collision   Rear Collision   \n",
              "\n",
              "  SeverityOfIncident AuthoritiesContacted IncidentState IncidentCity  \\\n",
              "0         Total Loss               Police        State7        City1   \n",
              "1         Total Loss               Police        State7        City5   \n",
              "2       Minor Damage                Other        State8        City6   \n",
              "3       Minor Damage                Other        State9        City6   \n",
              "4       Minor Damage                 Fire        State8        City6   \n",
              "\n",
              "  IncidentAddress  IncidentTime  ...  Policy_CombinedSingleLimit  \\\n",
              "0   Location 1311            17  ...                     100/300   \n",
              "1   Location 1311            10  ...                     100/300   \n",
              "2   Location 2081            22  ...                    500/1000   \n",
              "3   Location 2081            22  ...                    500/1000   \n",
              "4   Location 1695            10  ...                     100/300   \n",
              "\n",
              "  Policy_Deductible  PolicyAnnualPremium UmbrellaLimit InsuredRelationship  \\\n",
              "0              1000              1632.73             0       not-in-family   \n",
              "1              1000              1255.19             0       not-in-family   \n",
              "2               617              1373.38             0                wife   \n",
              "3               722              1337.60             0           own-child   \n",
              "4               500              1353.73       4279863           unmarried   \n",
              "\n",
              "      VehicleID  VehicleMake  VehicleModel  VehicleYOM  ReportedFraud  \n",
              "0  Vehicle26917         Audi            A5        2008              N  \n",
              "1  Vehicle15893         Audi            A5        2006              N  \n",
              "2   Vehicle5152   Volkswagen         Jetta        1999              N  \n",
              "3  Vehicle37363   Volkswagen         Jetta        2003              N  \n",
              "4  Vehicle28633       Toyota           CRV        2010              N  \n",
              "\n",
              "[5 rows x 42 columns]"
            ],
            "text/html": [
              "\n",
              "  <div id=\"df-67a7d287-6af7-4065-9fe0-fae5e4ac0f51\">\n",
              "    <div class=\"colab-df-container\">\n",
              "      <div>\n",
              "<style scoped>\n",
              "    .dataframe tbody tr th:only-of-type {\n",
              "        vertical-align: middle;\n",
              "    }\n",
              "\n",
              "    .dataframe tbody tr th {\n",
              "        vertical-align: top;\n",
              "    }\n",
              "\n",
              "    .dataframe thead th {\n",
              "        text-align: right;\n",
              "    }\n",
              "</style>\n",
              "<table border=\"1\" class=\"dataframe\">\n",
              "  <thead>\n",
              "    <tr style=\"text-align: right;\">\n",
              "      <th></th>\n",
              "      <th>CustomerID</th>\n",
              "      <th>DateOfIncident</th>\n",
              "      <th>TypeOfIncident</th>\n",
              "      <th>TypeOfCollission</th>\n",
              "      <th>SeverityOfIncident</th>\n",
              "      <th>AuthoritiesContacted</th>\n",
              "      <th>IncidentState</th>\n",
              "      <th>IncidentCity</th>\n",
              "      <th>IncidentAddress</th>\n",
              "      <th>IncidentTime</th>\n",
              "      <th>...</th>\n",
              "      <th>Policy_CombinedSingleLimit</th>\n",
              "      <th>Policy_Deductible</th>\n",
              "      <th>PolicyAnnualPremium</th>\n",
              "      <th>UmbrellaLimit</th>\n",
              "      <th>InsuredRelationship</th>\n",
              "      <th>VehicleID</th>\n",
              "      <th>VehicleMake</th>\n",
              "      <th>VehicleModel</th>\n",
              "      <th>VehicleYOM</th>\n",
              "      <th>ReportedFraud</th>\n",
              "    </tr>\n",
              "  </thead>\n",
              "  <tbody>\n",
              "    <tr>\n",
              "      <th>0</th>\n",
              "      <td>Cust10000</td>\n",
              "      <td>2015-02-03</td>\n",
              "      <td>Multi-vehicle Collision</td>\n",
              "      <td>Side Collision</td>\n",
              "      <td>Total Loss</td>\n",
              "      <td>Police</td>\n",
              "      <td>State7</td>\n",
              "      <td>City1</td>\n",
              "      <td>Location 1311</td>\n",
              "      <td>17</td>\n",
              "      <td>...</td>\n",
              "      <td>100/300</td>\n",
              "      <td>1000</td>\n",
              "      <td>1632.73</td>\n",
              "      <td>0</td>\n",
              "      <td>not-in-family</td>\n",
              "      <td>Vehicle26917</td>\n",
              "      <td>Audi</td>\n",
              "      <td>A5</td>\n",
              "      <td>2008</td>\n",
              "      <td>N</td>\n",
              "    </tr>\n",
              "    <tr>\n",
              "      <th>1</th>\n",
              "      <td>Cust10001</td>\n",
              "      <td>2015-02-02</td>\n",
              "      <td>Multi-vehicle Collision</td>\n",
              "      <td>Side Collision</td>\n",
              "      <td>Total Loss</td>\n",
              "      <td>Police</td>\n",
              "      <td>State7</td>\n",
              "      <td>City5</td>\n",
              "      <td>Location 1311</td>\n",
              "      <td>10</td>\n",
              "      <td>...</td>\n",
              "      <td>100/300</td>\n",
              "      <td>1000</td>\n",
              "      <td>1255.19</td>\n",
              "      <td>0</td>\n",
              "      <td>not-in-family</td>\n",
              "      <td>Vehicle15893</td>\n",
              "      <td>Audi</td>\n",
              "      <td>A5</td>\n",
              "      <td>2006</td>\n",
              "      <td>N</td>\n",
              "    </tr>\n",
              "    <tr>\n",
              "      <th>2</th>\n",
              "      <td>Cust10002</td>\n",
              "      <td>2015-01-15</td>\n",
              "      <td>Single Vehicle Collision</td>\n",
              "      <td>Side Collision</td>\n",
              "      <td>Minor Damage</td>\n",
              "      <td>Other</td>\n",
              "      <td>State8</td>\n",
              "      <td>City6</td>\n",
              "      <td>Location 2081</td>\n",
              "      <td>22</td>\n",
              "      <td>...</td>\n",
              "      <td>500/1000</td>\n",
              "      <td>617</td>\n",
              "      <td>1373.38</td>\n",
              "      <td>0</td>\n",
              "      <td>wife</td>\n",
              "      <td>Vehicle5152</td>\n",
              "      <td>Volkswagen</td>\n",
              "      <td>Jetta</td>\n",
              "      <td>1999</td>\n",
              "      <td>N</td>\n",
              "    </tr>\n",
              "    <tr>\n",
              "      <th>3</th>\n",
              "      <td>Cust10003</td>\n",
              "      <td>2015-01-19</td>\n",
              "      <td>Single Vehicle Collision</td>\n",
              "      <td>Side Collision</td>\n",
              "      <td>Minor Damage</td>\n",
              "      <td>Other</td>\n",
              "      <td>State9</td>\n",
              "      <td>City6</td>\n",
              "      <td>Location 2081</td>\n",
              "      <td>22</td>\n",
              "      <td>...</td>\n",
              "      <td>500/1000</td>\n",
              "      <td>722</td>\n",
              "      <td>1337.60</td>\n",
              "      <td>0</td>\n",
              "      <td>own-child</td>\n",
              "      <td>Vehicle37363</td>\n",
              "      <td>Volkswagen</td>\n",
              "      <td>Jetta</td>\n",
              "      <td>2003</td>\n",
              "      <td>N</td>\n",
              "    </tr>\n",
              "    <tr>\n",
              "      <th>4</th>\n",
              "      <td>Cust10004</td>\n",
              "      <td>2015-01-09</td>\n",
              "      <td>Single Vehicle Collision</td>\n",
              "      <td>Rear Collision</td>\n",
              "      <td>Minor Damage</td>\n",
              "      <td>Fire</td>\n",
              "      <td>State8</td>\n",
              "      <td>City6</td>\n",
              "      <td>Location 1695</td>\n",
              "      <td>10</td>\n",
              "      <td>...</td>\n",
              "      <td>100/300</td>\n",
              "      <td>500</td>\n",
              "      <td>1353.73</td>\n",
              "      <td>4279863</td>\n",
              "      <td>unmarried</td>\n",
              "      <td>Vehicle28633</td>\n",
              "      <td>Toyota</td>\n",
              "      <td>CRV</td>\n",
              "      <td>2010</td>\n",
              "      <td>N</td>\n",
              "    </tr>\n",
              "  </tbody>\n",
              "</table>\n",
              "<p>5 rows × 42 columns</p>\n",
              "</div>\n",
              "      <button class=\"colab-df-convert\" onclick=\"convertToInteractive('df-67a7d287-6af7-4065-9fe0-fae5e4ac0f51')\"\n",
              "              title=\"Convert this dataframe to an interactive table.\"\n",
              "              style=\"display:none;\">\n",
              "        \n",
              "  <svg xmlns=\"http://www.w3.org/2000/svg\" height=\"24px\"viewBox=\"0 0 24 24\"\n",
              "       width=\"24px\">\n",
              "    <path d=\"M0 0h24v24H0V0z\" fill=\"none\"/>\n",
              "    <path d=\"M18.56 5.44l.94 2.06.94-2.06 2.06-.94-2.06-.94-.94-2.06-.94 2.06-2.06.94zm-11 1L8.5 8.5l.94-2.06 2.06-.94-2.06-.94L8.5 2.5l-.94 2.06-2.06.94zm10 10l.94 2.06.94-2.06 2.06-.94-2.06-.94-.94-2.06-.94 2.06-2.06.94z\"/><path d=\"M17.41 7.96l-1.37-1.37c-.4-.4-.92-.59-1.43-.59-.52 0-1.04.2-1.43.59L10.3 9.45l-7.72 7.72c-.78.78-.78 2.05 0 2.83L4 21.41c.39.39.9.59 1.41.59.51 0 1.02-.2 1.41-.59l7.78-7.78 2.81-2.81c.8-.78.8-2.07 0-2.86zM5.41 20L4 18.59l7.72-7.72 1.47 1.35L5.41 20z\"/>\n",
              "  </svg>\n",
              "      </button>\n",
              "      \n",
              "  <style>\n",
              "    .colab-df-container {\n",
              "      display:flex;\n",
              "      flex-wrap:wrap;\n",
              "      gap: 12px;\n",
              "    }\n",
              "\n",
              "    .colab-df-convert {\n",
              "      background-color: #E8F0FE;\n",
              "      border: none;\n",
              "      border-radius: 50%;\n",
              "      cursor: pointer;\n",
              "      display: none;\n",
              "      fill: #1967D2;\n",
              "      height: 32px;\n",
              "      padding: 0 0 0 0;\n",
              "      width: 32px;\n",
              "    }\n",
              "\n",
              "    .colab-df-convert:hover {\n",
              "      background-color: #E2EBFA;\n",
              "      box-shadow: 0px 1px 2px rgba(60, 64, 67, 0.3), 0px 1px 3px 1px rgba(60, 64, 67, 0.15);\n",
              "      fill: #174EA6;\n",
              "    }\n",
              "\n",
              "    [theme=dark] .colab-df-convert {\n",
              "      background-color: #3B4455;\n",
              "      fill: #D2E3FC;\n",
              "    }\n",
              "\n",
              "    [theme=dark] .colab-df-convert:hover {\n",
              "      background-color: #434B5C;\n",
              "      box-shadow: 0px 1px 3px 1px rgba(0, 0, 0, 0.15);\n",
              "      filter: drop-shadow(0px 1px 2px rgba(0, 0, 0, 0.3));\n",
              "      fill: #FFFFFF;\n",
              "    }\n",
              "  </style>\n",
              "\n",
              "      <script>\n",
              "        const buttonEl =\n",
              "          document.querySelector('#df-67a7d287-6af7-4065-9fe0-fae5e4ac0f51 button.colab-df-convert');\n",
              "        buttonEl.style.display =\n",
              "          google.colab.kernel.accessAllowed ? 'block' : 'none';\n",
              "\n",
              "        async function convertToInteractive(key) {\n",
              "          const element = document.querySelector('#df-67a7d287-6af7-4065-9fe0-fae5e4ac0f51');\n",
              "          const dataTable =\n",
              "            await google.colab.kernel.invokeFunction('convertToInteractive',\n",
              "                                                     [key], {});\n",
              "          if (!dataTable) return;\n",
              "\n",
              "          const docLinkHtml = 'Like what you see? Visit the ' +\n",
              "            '<a target=\"_blank\" href=https://colab.research.google.com/notebooks/data_table.ipynb>data table notebook</a>'\n",
              "            + ' to learn more about interactive tables.';\n",
              "          element.innerHTML = '';\n",
              "          dataTable['output_type'] = 'display_data';\n",
              "          await google.colab.output.renderOutput(dataTable, element);\n",
              "          const docLink = document.createElement('div');\n",
              "          docLink.innerHTML = docLinkHtml;\n",
              "          element.appendChild(docLink);\n",
              "        }\n",
              "      </script>\n",
              "    </div>\n",
              "  </div>\n",
              "  "
            ]
          },
          "metadata": {},
          "execution_count": 17
        }
      ]
    },
    {
      "cell_type": "code",
      "source": [
        "# Making a list of missing value types\n",
        "missing_values = [\"MISSEDDATA\",\"NA\",\"?\",\"MISSINGVALUE\",\"???\",-5,\"MISSINGVAL\",-1,\"N/A\",\"na\"]"
      ],
      "metadata": {
        "id": "Q5lsJV01thlA"
      },
      "execution_count": 18,
      "outputs": []
    },
    {
      "cell_type": "code",
      "source": [
        "#we create one missing values list by using that if that comes in any place we replace it with nan\n",
        "for column in master.columns:\n",
        "    for missing in missing_values:\n",
        "        master[column] = np.where(master[column]==missing, np.NaN, master[column])"
      ],
      "metadata": {
        "id": "L6m_g9uptlL9"
      },
      "execution_count": 19,
      "outputs": []
    },
    {
      "cell_type": "code",
      "source": [
        "master.isna().sum()"
      ],
      "metadata": {
        "id": "xPiWk0qSY6tk",
        "colab": {
          "base_uri": "https://localhost:8080/"
        },
        "outputId": "315ae281-e80b-4eac-fbc3-6d693cea7ab7"
      },
      "execution_count": 20,
      "outputs": [
        {
          "output_type": "execute_result",
          "data": {
            "text/plain": [
              "CustomerID                        0\n",
              "DateOfIncident                    0\n",
              "TypeOfIncident                    0\n",
              "TypeOfCollission               5162\n",
              "SeverityOfIncident                0\n",
              "AuthoritiesContacted              0\n",
              "IncidentState                     0\n",
              "IncidentCity                      0\n",
              "IncidentAddress                   0\n",
              "IncidentTime                     31\n",
              "NumberOfVehicles                  0\n",
              "PropertyDamage                10459\n",
              "BodilyInjuries                    0\n",
              "Witnesses                        46\n",
              "PoliceReport                   9805\n",
              "AmountOfTotalClaim               50\n",
              "AmountOfInjuryClaim               0\n",
              "AmountOfPropertyClaim             0\n",
              "AmountOfVehicleDamage             0\n",
              "InsuredAge                        0\n",
              "InsuredZipCode                    0\n",
              "InsuredGender                    30\n",
              "InsuredEducationLevel             0\n",
              "InsuredOccupation                 0\n",
              "InsuredHobbies                    0\n",
              "CapitalGains                      0\n",
              "CapitalLoss                       0\n",
              "Country                           2\n",
              "InsurancePolicyNumber             0\n",
              "CustomerLoyaltyPeriod             0\n",
              "DateOfPolicyCoverage              0\n",
              "InsurancePolicyState              0\n",
              "Policy_CombinedSingleLimit        0\n",
              "Policy_Deductible                 0\n",
              "PolicyAnnualPremium             141\n",
              "UmbrellaLimit                     0\n",
              "InsuredRelationship               0\n",
              "VehicleID                         0\n",
              "VehicleMake                      50\n",
              "VehicleModel                      0\n",
              "VehicleYOM                        0\n",
              "ReportedFraud                     0\n",
              "dtype: int64"
            ]
          },
          "metadata": {},
          "execution_count": 20
        }
      ]
    },
    {
      "cell_type": "code",
      "source": [
        "#train['AmountOfTotalclaim'].as type(int)"
      ],
      "metadata": {
        "id": "pRZNZEOiY9qd"
      },
      "execution_count": 21,
      "outputs": []
    },
    {
      "cell_type": "code",
      "source": [
        "master.info()"
      ],
      "metadata": {
        "id": "Ob58MZgnaMDD",
        "colab": {
          "base_uri": "https://localhost:8080/"
        },
        "outputId": "a5dbb524-009c-4c87-b7d6-0b6f026463fd"
      },
      "execution_count": 22,
      "outputs": [
        {
          "output_type": "stream",
          "name": "stdout",
          "text": [
            "<class 'pandas.core.frame.DataFrame'>\n",
            "Int64Index: 28836 entries, 0 to 28835\n",
            "Data columns (total 42 columns):\n",
            " #   Column                      Non-Null Count  Dtype  \n",
            "---  ------                      --------------  -----  \n",
            " 0   CustomerID                  28836 non-null  object \n",
            " 1   DateOfIncident              28836 non-null  object \n",
            " 2   TypeOfIncident              28836 non-null  object \n",
            " 3   TypeOfCollission            23674 non-null  object \n",
            " 4   SeverityOfIncident          28836 non-null  object \n",
            " 5   AuthoritiesContacted        28836 non-null  object \n",
            " 6   IncidentState               28836 non-null  object \n",
            " 7   IncidentCity                28836 non-null  object \n",
            " 8   IncidentAddress             28836 non-null  object \n",
            " 9   IncidentTime                28805 non-null  float64\n",
            " 10  NumberOfVehicles            28836 non-null  float64\n",
            " 11  PropertyDamage              18377 non-null  object \n",
            " 12  BodilyInjuries              28836 non-null  float64\n",
            " 13  Witnesses                   28790 non-null  object \n",
            " 14  PoliceReport                19031 non-null  object \n",
            " 15  AmountOfTotalClaim          28786 non-null  object \n",
            " 16  AmountOfInjuryClaim         28836 non-null  float64\n",
            " 17  AmountOfPropertyClaim       28836 non-null  float64\n",
            " 18  AmountOfVehicleDamage       28836 non-null  float64\n",
            " 19  InsuredAge                  28836 non-null  float64\n",
            " 20  InsuredZipCode              28836 non-null  float64\n",
            " 21  InsuredGender               28806 non-null  object \n",
            " 22  InsuredEducationLevel       28836 non-null  object \n",
            " 23  InsuredOccupation           28836 non-null  object \n",
            " 24  InsuredHobbies              28836 non-null  object \n",
            " 25  CapitalGains                28836 non-null  float64\n",
            " 26  CapitalLoss                 28836 non-null  float64\n",
            " 27  Country                     28834 non-null  object \n",
            " 28  InsurancePolicyNumber       28836 non-null  float64\n",
            " 29  CustomerLoyaltyPeriod       28836 non-null  float64\n",
            " 30  DateOfPolicyCoverage        28836 non-null  object \n",
            " 31  InsurancePolicyState        28836 non-null  object \n",
            " 32  Policy_CombinedSingleLimit  28836 non-null  object \n",
            " 33  Policy_Deductible           28836 non-null  float64\n",
            " 34  PolicyAnnualPremium         28695 non-null  float64\n",
            " 35  UmbrellaLimit               28836 non-null  float64\n",
            " 36  InsuredRelationship         28836 non-null  object \n",
            " 37  VehicleID                   28836 non-null  object \n",
            " 38  VehicleMake                 28786 non-null  object \n",
            " 39  VehicleModel                28836 non-null  object \n",
            " 40  VehicleYOM                  28836 non-null  float64\n",
            " 41  ReportedFraud               28836 non-null  object \n",
            "dtypes: float64(16), object(26)\n",
            "memory usage: 9.5+ MB\n"
          ]
        }
      ]
    },
    {
      "cell_type": "code",
      "source": [],
      "metadata": {
        "id": "x7Z8IBB8Z5ey"
      },
      "execution_count": 22,
      "outputs": []
    },
    {
      "cell_type": "code",
      "source": [
        "master['TypeOfCollission'].fillna(master['TypeOfCollission'].mode()[0],inplace=True)\n",
        "master['AmountOfTotalClaim'].fillna(master['AmountOfTotalClaim'].median(),inplace=True)\n",
        "master['IncidentTime'].fillna(master['IncidentTime'].median(),inplace=True)\n",
        "master['Witnesses'].fillna(master['Witnesses'].mode()[0],inplace=True)\n",
        "master['InsuredGender'].fillna(master['InsuredGender'].mode()[0],inplace=True)\n",
        "master['Country'].fillna(master['Country'].mode()[0],inplace=True)\n",
        "master['PolicyAnnualPremium'].fillna(master['PolicyAnnualPremium'].mean(),inplace=True)\n",
        "master['VehicleMake'].fillna(master['VehicleMake'].mode()[0],inplace=True)\n",
        "master['PoliceReport'].fillna(master['PoliceReport'].mode()[0],inplace=True)\n"
      ],
      "metadata": {
        "id": "f8TsVinBZBIT"
      },
      "execution_count": 23,
      "outputs": []
    },
    {
      "cell_type": "code",
      "source": [
        "master['AmountOfTotalClaim'] = master['AmountOfTotalClaim'].astype('int')"
      ],
      "metadata": {
        "id": "I_uaiZqop84N"
      },
      "execution_count": 24,
      "outputs": []
    },
    {
      "cell_type": "code",
      "source": [
        "master.isna().sum()"
      ],
      "metadata": {
        "id": "4WAtHdDRa6Fh",
        "colab": {
          "base_uri": "https://localhost:8080/"
        },
        "outputId": "f028f1fc-984e-4deb-be16-75034cdb692b"
      },
      "execution_count": 25,
      "outputs": [
        {
          "output_type": "execute_result",
          "data": {
            "text/plain": [
              "CustomerID                        0\n",
              "DateOfIncident                    0\n",
              "TypeOfIncident                    0\n",
              "TypeOfCollission                  0\n",
              "SeverityOfIncident                0\n",
              "AuthoritiesContacted              0\n",
              "IncidentState                     0\n",
              "IncidentCity                      0\n",
              "IncidentAddress                   0\n",
              "IncidentTime                      0\n",
              "NumberOfVehicles                  0\n",
              "PropertyDamage                10459\n",
              "BodilyInjuries                    0\n",
              "Witnesses                         0\n",
              "PoliceReport                      0\n",
              "AmountOfTotalClaim                0\n",
              "AmountOfInjuryClaim               0\n",
              "AmountOfPropertyClaim             0\n",
              "AmountOfVehicleDamage             0\n",
              "InsuredAge                        0\n",
              "InsuredZipCode                    0\n",
              "InsuredGender                     0\n",
              "InsuredEducationLevel             0\n",
              "InsuredOccupation                 0\n",
              "InsuredHobbies                    0\n",
              "CapitalGains                      0\n",
              "CapitalLoss                       0\n",
              "Country                           0\n",
              "InsurancePolicyNumber             0\n",
              "CustomerLoyaltyPeriod             0\n",
              "DateOfPolicyCoverage              0\n",
              "InsurancePolicyState              0\n",
              "Policy_CombinedSingleLimit        0\n",
              "Policy_Deductible                 0\n",
              "PolicyAnnualPremium               0\n",
              "UmbrellaLimit                     0\n",
              "InsuredRelationship               0\n",
              "VehicleID                         0\n",
              "VehicleMake                       0\n",
              "VehicleModel                      0\n",
              "VehicleYOM                        0\n",
              "ReportedFraud                     0\n",
              "dtype: int64"
            ]
          },
          "metadata": {},
          "execution_count": 25
        }
      ]
    },
    {
      "cell_type": "code",
      "source": [
        "master=master.drop(columns=['PropertyDamage','CustomerID','InsuredRelationship','DateOfIncident','IncidentAddress','IncidentCity','IncidentState','InsuredHobbies','DateOfPolicyCoverage','Country','InsuredZipCode'])"
      ],
      "metadata": {
        "id": "Tj56w9Dtanci"
      },
      "execution_count": 26,
      "outputs": []
    },
    {
      "cell_type": "code",
      "source": [
        "master.shape"
      ],
      "metadata": {
        "colab": {
          "base_uri": "https://localhost:8080/"
        },
        "id": "SapOowFMbPss",
        "outputId": "7378dc2e-a246-4084-82a1-3cfaf27d763c"
      },
      "execution_count": 27,
      "outputs": [
        {
          "output_type": "execute_result",
          "data": {
            "text/plain": [
              "(28836, 31)"
            ]
          },
          "metadata": {},
          "execution_count": 27
        }
      ]
    },
    {
      "cell_type": "code",
      "source": [
        "cat_col=['TypeOfIncident','TypeOfCollission','SeverityOfIncident','AuthoritiesContacted',\n",
        "                         \n",
        "          'PoliceReport','InsuredGender','InsuredEducationLevel','InsuredOccupation',\n",
        "          'InsurancePolicyState','Policy_CombinedSingleLimit',        \n",
        "          'ReportedFraud','VehicleID','VehicleMake','VehicleModel','VehicleYOM']\n",
        "from sklearn.preprocessing import LabelEncoder\n",
        "le = LabelEncoder()\n",
        "\n",
        "for col in cat_col:\n",
        "    master[col]= le.fit_transform(master[col])  "
      ],
      "metadata": {
        "id": "NmzpXHKFb2Wz"
      },
      "execution_count": 28,
      "outputs": []
    },
    {
      "cell_type": "code",
      "source": [
        "master.head()"
      ],
      "metadata": {
        "id": "8Q8DEDrccNvt",
        "colab": {
          "base_uri": "https://localhost:8080/",
          "height": 299
        },
        "outputId": "de91d460-10ec-4fa0-84a8-5a22fb58e736"
      },
      "execution_count": 29,
      "outputs": [
        {
          "output_type": "execute_result",
          "data": {
            "text/plain": [
              "   TypeOfIncident  TypeOfCollission  SeverityOfIncident  AuthoritiesContacted  \\\n",
              "0               0                 2                   2                     4   \n",
              "1               0                 2                   2                     4   \n",
              "2               2                 2                   1                     3   \n",
              "3               2                 2                   1                     3   \n",
              "4               2                 1                   1                     1   \n",
              "\n",
              "   IncidentTime  NumberOfVehicles  BodilyInjuries Witnesses  PoliceReport  \\\n",
              "0          17.0               3.0             1.0         0             0   \n",
              "1          10.0               3.0             2.0         1             1   \n",
              "2          22.0               1.0             2.0         3             0   \n",
              "3          22.0               1.0             2.0         3             0   \n",
              "4          10.0               1.0             2.0         1             1   \n",
              "\n",
              "   AmountOfTotalClaim  ...  InsurancePolicyState  Policy_CombinedSingleLimit  \\\n",
              "0               65501  ...                     0                           1   \n",
              "1               61382  ...                     0                           1   \n",
              "2               66755  ...                     2                           6   \n",
              "3               66243  ...                     1                           6   \n",
              "4               53544  ...                     1                           1   \n",
              "\n",
              "   Policy_Deductible  PolicyAnnualPremium  UmbrellaLimit  VehicleID  \\\n",
              "0             1000.0              1632.73            0.0      13692   \n",
              "1             1000.0              1255.19            0.0       4572   \n",
              "2              617.0              1373.38            0.0      25249   \n",
              "3              722.0              1337.60            0.0      22267   \n",
              "4              500.0              1353.73      4279863.0      15080   \n",
              "\n",
              "   VehicleMake  VehicleModel  VehicleYOM  ReportedFraud  \n",
              "0            1             5          13              0  \n",
              "1            1             5          11              0  \n",
              "2           13            20           4              0  \n",
              "3           13            20           8              0  \n",
              "4           12             8          15              0  \n",
              "\n",
              "[5 rows x 31 columns]"
            ],
            "text/html": [
              "\n",
              "  <div id=\"df-6d131b38-fe86-48f0-b427-52b5758b5599\">\n",
              "    <div class=\"colab-df-container\">\n",
              "      <div>\n",
              "<style scoped>\n",
              "    .dataframe tbody tr th:only-of-type {\n",
              "        vertical-align: middle;\n",
              "    }\n",
              "\n",
              "    .dataframe tbody tr th {\n",
              "        vertical-align: top;\n",
              "    }\n",
              "\n",
              "    .dataframe thead th {\n",
              "        text-align: right;\n",
              "    }\n",
              "</style>\n",
              "<table border=\"1\" class=\"dataframe\">\n",
              "  <thead>\n",
              "    <tr style=\"text-align: right;\">\n",
              "      <th></th>\n",
              "      <th>TypeOfIncident</th>\n",
              "      <th>TypeOfCollission</th>\n",
              "      <th>SeverityOfIncident</th>\n",
              "      <th>AuthoritiesContacted</th>\n",
              "      <th>IncidentTime</th>\n",
              "      <th>NumberOfVehicles</th>\n",
              "      <th>BodilyInjuries</th>\n",
              "      <th>Witnesses</th>\n",
              "      <th>PoliceReport</th>\n",
              "      <th>AmountOfTotalClaim</th>\n",
              "      <th>...</th>\n",
              "      <th>InsurancePolicyState</th>\n",
              "      <th>Policy_CombinedSingleLimit</th>\n",
              "      <th>Policy_Deductible</th>\n",
              "      <th>PolicyAnnualPremium</th>\n",
              "      <th>UmbrellaLimit</th>\n",
              "      <th>VehicleID</th>\n",
              "      <th>VehicleMake</th>\n",
              "      <th>VehicleModel</th>\n",
              "      <th>VehicleYOM</th>\n",
              "      <th>ReportedFraud</th>\n",
              "    </tr>\n",
              "  </thead>\n",
              "  <tbody>\n",
              "    <tr>\n",
              "      <th>0</th>\n",
              "      <td>0</td>\n",
              "      <td>2</td>\n",
              "      <td>2</td>\n",
              "      <td>4</td>\n",
              "      <td>17.0</td>\n",
              "      <td>3.0</td>\n",
              "      <td>1.0</td>\n",
              "      <td>0</td>\n",
              "      <td>0</td>\n",
              "      <td>65501</td>\n",
              "      <td>...</td>\n",
              "      <td>0</td>\n",
              "      <td>1</td>\n",
              "      <td>1000.0</td>\n",
              "      <td>1632.73</td>\n",
              "      <td>0.0</td>\n",
              "      <td>13692</td>\n",
              "      <td>1</td>\n",
              "      <td>5</td>\n",
              "      <td>13</td>\n",
              "      <td>0</td>\n",
              "    </tr>\n",
              "    <tr>\n",
              "      <th>1</th>\n",
              "      <td>0</td>\n",
              "      <td>2</td>\n",
              "      <td>2</td>\n",
              "      <td>4</td>\n",
              "      <td>10.0</td>\n",
              "      <td>3.0</td>\n",
              "      <td>2.0</td>\n",
              "      <td>1</td>\n",
              "      <td>1</td>\n",
              "      <td>61382</td>\n",
              "      <td>...</td>\n",
              "      <td>0</td>\n",
              "      <td>1</td>\n",
              "      <td>1000.0</td>\n",
              "      <td>1255.19</td>\n",
              "      <td>0.0</td>\n",
              "      <td>4572</td>\n",
              "      <td>1</td>\n",
              "      <td>5</td>\n",
              "      <td>11</td>\n",
              "      <td>0</td>\n",
              "    </tr>\n",
              "    <tr>\n",
              "      <th>2</th>\n",
              "      <td>2</td>\n",
              "      <td>2</td>\n",
              "      <td>1</td>\n",
              "      <td>3</td>\n",
              "      <td>22.0</td>\n",
              "      <td>1.0</td>\n",
              "      <td>2.0</td>\n",
              "      <td>3</td>\n",
              "      <td>0</td>\n",
              "      <td>66755</td>\n",
              "      <td>...</td>\n",
              "      <td>2</td>\n",
              "      <td>6</td>\n",
              "      <td>617.0</td>\n",
              "      <td>1373.38</td>\n",
              "      <td>0.0</td>\n",
              "      <td>25249</td>\n",
              "      <td>13</td>\n",
              "      <td>20</td>\n",
              "      <td>4</td>\n",
              "      <td>0</td>\n",
              "    </tr>\n",
              "    <tr>\n",
              "      <th>3</th>\n",
              "      <td>2</td>\n",
              "      <td>2</td>\n",
              "      <td>1</td>\n",
              "      <td>3</td>\n",
              "      <td>22.0</td>\n",
              "      <td>1.0</td>\n",
              "      <td>2.0</td>\n",
              "      <td>3</td>\n",
              "      <td>0</td>\n",
              "      <td>66243</td>\n",
              "      <td>...</td>\n",
              "      <td>1</td>\n",
              "      <td>6</td>\n",
              "      <td>722.0</td>\n",
              "      <td>1337.60</td>\n",
              "      <td>0.0</td>\n",
              "      <td>22267</td>\n",
              "      <td>13</td>\n",
              "      <td>20</td>\n",
              "      <td>8</td>\n",
              "      <td>0</td>\n",
              "    </tr>\n",
              "    <tr>\n",
              "      <th>4</th>\n",
              "      <td>2</td>\n",
              "      <td>1</td>\n",
              "      <td>1</td>\n",
              "      <td>1</td>\n",
              "      <td>10.0</td>\n",
              "      <td>1.0</td>\n",
              "      <td>2.0</td>\n",
              "      <td>1</td>\n",
              "      <td>1</td>\n",
              "      <td>53544</td>\n",
              "      <td>...</td>\n",
              "      <td>1</td>\n",
              "      <td>1</td>\n",
              "      <td>500.0</td>\n",
              "      <td>1353.73</td>\n",
              "      <td>4279863.0</td>\n",
              "      <td>15080</td>\n",
              "      <td>12</td>\n",
              "      <td>8</td>\n",
              "      <td>15</td>\n",
              "      <td>0</td>\n",
              "    </tr>\n",
              "  </tbody>\n",
              "</table>\n",
              "<p>5 rows × 31 columns</p>\n",
              "</div>\n",
              "      <button class=\"colab-df-convert\" onclick=\"convertToInteractive('df-6d131b38-fe86-48f0-b427-52b5758b5599')\"\n",
              "              title=\"Convert this dataframe to an interactive table.\"\n",
              "              style=\"display:none;\">\n",
              "        \n",
              "  <svg xmlns=\"http://www.w3.org/2000/svg\" height=\"24px\"viewBox=\"0 0 24 24\"\n",
              "       width=\"24px\">\n",
              "    <path d=\"M0 0h24v24H0V0z\" fill=\"none\"/>\n",
              "    <path d=\"M18.56 5.44l.94 2.06.94-2.06 2.06-.94-2.06-.94-.94-2.06-.94 2.06-2.06.94zm-11 1L8.5 8.5l.94-2.06 2.06-.94-2.06-.94L8.5 2.5l-.94 2.06-2.06.94zm10 10l.94 2.06.94-2.06 2.06-.94-2.06-.94-.94-2.06-.94 2.06-2.06.94z\"/><path d=\"M17.41 7.96l-1.37-1.37c-.4-.4-.92-.59-1.43-.59-.52 0-1.04.2-1.43.59L10.3 9.45l-7.72 7.72c-.78.78-.78 2.05 0 2.83L4 21.41c.39.39.9.59 1.41.59.51 0 1.02-.2 1.41-.59l7.78-7.78 2.81-2.81c.8-.78.8-2.07 0-2.86zM5.41 20L4 18.59l7.72-7.72 1.47 1.35L5.41 20z\"/>\n",
              "  </svg>\n",
              "      </button>\n",
              "      \n",
              "  <style>\n",
              "    .colab-df-container {\n",
              "      display:flex;\n",
              "      flex-wrap:wrap;\n",
              "      gap: 12px;\n",
              "    }\n",
              "\n",
              "    .colab-df-convert {\n",
              "      background-color: #E8F0FE;\n",
              "      border: none;\n",
              "      border-radius: 50%;\n",
              "      cursor: pointer;\n",
              "      display: none;\n",
              "      fill: #1967D2;\n",
              "      height: 32px;\n",
              "      padding: 0 0 0 0;\n",
              "      width: 32px;\n",
              "    }\n",
              "\n",
              "    .colab-df-convert:hover {\n",
              "      background-color: #E2EBFA;\n",
              "      box-shadow: 0px 1px 2px rgba(60, 64, 67, 0.3), 0px 1px 3px 1px rgba(60, 64, 67, 0.15);\n",
              "      fill: #174EA6;\n",
              "    }\n",
              "\n",
              "    [theme=dark] .colab-df-convert {\n",
              "      background-color: #3B4455;\n",
              "      fill: #D2E3FC;\n",
              "    }\n",
              "\n",
              "    [theme=dark] .colab-df-convert:hover {\n",
              "      background-color: #434B5C;\n",
              "      box-shadow: 0px 1px 3px 1px rgba(0, 0, 0, 0.15);\n",
              "      filter: drop-shadow(0px 1px 2px rgba(0, 0, 0, 0.3));\n",
              "      fill: #FFFFFF;\n",
              "    }\n",
              "  </style>\n",
              "\n",
              "      <script>\n",
              "        const buttonEl =\n",
              "          document.querySelector('#df-6d131b38-fe86-48f0-b427-52b5758b5599 button.colab-df-convert');\n",
              "        buttonEl.style.display =\n",
              "          google.colab.kernel.accessAllowed ? 'block' : 'none';\n",
              "\n",
              "        async function convertToInteractive(key) {\n",
              "          const element = document.querySelector('#df-6d131b38-fe86-48f0-b427-52b5758b5599');\n",
              "          const dataTable =\n",
              "            await google.colab.kernel.invokeFunction('convertToInteractive',\n",
              "                                                     [key], {});\n",
              "          if (!dataTable) return;\n",
              "\n",
              "          const docLinkHtml = 'Like what you see? Visit the ' +\n",
              "            '<a target=\"_blank\" href=https://colab.research.google.com/notebooks/data_table.ipynb>data table notebook</a>'\n",
              "            + ' to learn more about interactive tables.';\n",
              "          element.innerHTML = '';\n",
              "          dataTable['output_type'] = 'display_data';\n",
              "          await google.colab.output.renderOutput(dataTable, element);\n",
              "          const docLink = document.createElement('div');\n",
              "          docLink.innerHTML = docLinkHtml;\n",
              "          element.appendChild(docLink);\n",
              "        }\n",
              "      </script>\n",
              "    </div>\n",
              "  </div>\n",
              "  "
            ]
          },
          "metadata": {},
          "execution_count": 29
        }
      ]
    },
    {
      "cell_type": "code",
      "source": [
        "from sklearn.preprocessing import MinMaxScaler\n",
        "min_max=MinMaxScaler()\n",
        "train_scaled=pd.DataFrame(min_max.fit_transform(x))"
      ],
      "metadata": {
        "id": "USxTZov8cRJv"
      },
      "execution_count": 32,
      "outputs": []
    },
    {
      "cell_type": "code",
      "source": [
        "train_scaled"
      ],
      "metadata": {
        "id": "4psHrTuGfonm"
      },
      "execution_count": null,
      "outputs": []
    },
    {
      "cell_type": "code",
      "source": [
        "#test\n",
        "\n",
        "\n",
        "\n",
        "df2=pd.read_csv(\"/content/drive/MyDrive/TestData/Test_Vehicle.csv\")"
      ],
      "metadata": {
        "id": "O_4iH4GYf8dE"
      },
      "execution_count": 34,
      "outputs": []
    },
    {
      "cell_type": "code",
      "source": [
        "df3=df2.pivot_table(\"VehicleAttributeDetails\", [\"CustomerID\"], \"VehicleAttribute\", aggfunc=\"first\") .reset_index() .rename_axis(columns=None) \n",
        "df3"
      ],
      "metadata": {
        "id": "8fnVjqlxgDiQ"
      },
      "execution_count": null,
      "outputs": []
    },
    {
      "cell_type": "code",
      "source": [
        "n1=pd.read_csv(\"/content/drive/MyDrive/TestData/Test_Claim.csv\")\n",
        "n2=pd.read_csv(\"/content/drive/MyDrive/TestData/Test_Demographics.csv\")\n",
        "n3=pd.read_csv(\"/content/drive/MyDrive/TestData/Test_Policy.csv\")\n",
        "n4=pd.read_csv(\"/content/drive/MyDrive/TestData/Test.csv\")\n",
        "n5=df3"
      ],
      "metadata": {
        "id": "WvytB6f2gHGh"
      },
      "execution_count": 36,
      "outputs": []
    },
    {
      "cell_type": "code",
      "source": [
        "print(n1.shape)\n",
        "print(n2.shape)\n",
        "print(n3.shape)\n",
        "print(n4.shape)\n",
        "print(n5.shape)"
      ],
      "metadata": {
        "colab": {
          "base_uri": "https://localhost:8080/"
        },
        "id": "h2ZQ9AorgLMS",
        "outputId": "11f454ed-1f58-48ee-ef89-3587e282074b"
      },
      "execution_count": 37,
      "outputs": [
        {
          "output_type": "stream",
          "name": "stdout",
          "text": [
            "(8912, 19)\n",
            "(8912, 10)\n",
            "(8912, 10)\n",
            "(8912, 1)\n",
            "(8912, 5)\n"
          ]
        }
      ]
    },
    {
      "cell_type": "code",
      "source": [
        "fil1=pd.merge(n1,n2)\n",
        "fil2=pd.merge(fil1,n3)\n",
        "fil3=pd.merge(fil2,n4)\n",
        "test=pd.merge(fil3,n5)"
      ],
      "metadata": {
        "id": "lwkVXvKmgNWq"
      },
      "execution_count": 38,
      "outputs": []
    },
    {
      "cell_type": "code",
      "source": [
        "test.head()"
      ],
      "metadata": {
        "id": "fYsIzWMzgSFY"
      },
      "execution_count": null,
      "outputs": []
    },
    {
      "cell_type": "code",
      "source": [
        "\n",
        "test.replace(\"?\",np.nan,inplace=True)\n",
        "test.replace(\"???\",np.nan,inplace=True)\n",
        "test.replace(\"MISSINGVALUE\",np.nan,inplace=True)\n",
        "test.replace(\"MISSEDDATA\",np.nan,inplace=True)\n",
        "test.replace(-1,np.nan,inplace=True)\n",
        "test.replace(-5,np.nan,inplace=True)\n",
        "test.replace(\"MISSINGVAL\",np.nan,inplace=True)"
      ],
      "metadata": {
        "id": "bmTV89ktgUYS"
      },
      "execution_count": 40,
      "outputs": []
    },
    {
      "cell_type": "code",
      "source": [
        "test.isna().sum()"
      ],
      "metadata": {
        "id": "Tf10EqrVgkv5"
      },
      "execution_count": null,
      "outputs": []
    },
    {
      "cell_type": "code",
      "source": [
        "test['TypeOfCollission'].fillna(test['TypeOfCollission'].mode()[0],inplace=True)\n",
        "test['AmountOfTotalClaim'].fillna(test['AmountOfTotalClaim'].median(),inplace=True)\n",
        "test['IncidentTime'].fillna(test['IncidentTime'].median(),inplace=True)\n",
        "test['Witnesses'].fillna(test['Witnesses'].mode()[0],inplace=True)\n",
        "test['InsuredGender'].fillna(test['InsuredGender'].mode()[0],inplace=True)\n",
        "test['Country'].fillna(test['Country'].mode()[0],inplace=True)\n",
        "test['PolicyAnnualPremium'].fillna(test['PolicyAnnualPremium'].mean(),inplace=True)\n",
        "test['VehicleMake'].fillna(test['VehicleMake'].mode()[0],inplace=True)\n",
        "test['PoliceReport'].fillna(test['PoliceReport'].mode()[0],inplace=True)\n"
      ],
      "metadata": {
        "id": "gcTkbr7qgol8"
      },
      "execution_count": 42,
      "outputs": []
    },
    {
      "cell_type": "code",
      "source": [
        "test['AmountOfTotalClaim'] = test['AmountOfTotalClaim'].astype('int')"
      ],
      "metadata": {
        "id": "lTYsXbyrgwn-"
      },
      "execution_count": 43,
      "outputs": []
    },
    {
      "cell_type": "code",
      "source": [
        "test=test.drop(columns=['PropertyDamage','InsuredRelationship','DateOfIncident','IncidentAddress','DateOfPolicyCoverage','IncidentCity','IncidentState','InsuredHobbies','Country','InsuredZipCode'])"
      ],
      "metadata": {
        "id": "e6phFi_xhNHt"
      },
      "execution_count": 44,
      "outputs": []
    },
    {
      "cell_type": "code",
      "source": [
        "cat_col1=['TypeOfIncident','TypeOfCollission','SeverityOfIncident','AuthoritiesContacted',\n",
        "                        \n",
        "          'PoliceReport','InsuredGender','InsuredEducationLevel','InsuredOccupation',\n",
        "          'InsurancePolicyState','Policy_CombinedSingleLimit',        \n",
        "          'VehicleID','VehicleMake','VehicleModel','VehicleYOM']\n",
        "from sklearn.preprocessing import LabelEncoder\n",
        "le1 = LabelEncoder()\n",
        "\n",
        "for col1 in cat_col1:\n",
        "    test[col1]= le1.fit_transform(test[col1]) "
      ],
      "metadata": {
        "id": "vQ0mpFlrg9H1"
      },
      "execution_count": 45,
      "outputs": []
    },
    {
      "cell_type": "code",
      "source": [
        "custid=test['CustomerID']\n",
        "test.drop(['CustomerID'],axis=1,inplace=True)"
      ],
      "metadata": {
        "id": "I08JN_NihxeX"
      },
      "execution_count": 46,
      "outputs": []
    },
    {
      "cell_type": "code",
      "source": [
        "from sklearn.preprocessing import MinMaxScaler\n",
        "min_max=MinMaxScaler()\n",
        "test_scaled=pd.DataFrame(min_max.fit_transform(test))"
      ],
      "metadata": {
        "id": "8Pri4o_ghhBm"
      },
      "execution_count": 47,
      "outputs": []
    },
    {
      "cell_type": "code",
      "source": [
        "print(master.shape)\n",
        "print(test.shape)"
      ],
      "metadata": {
        "id": "9nJc8hclhYNy"
      },
      "execution_count": null,
      "outputs": []
    },
    {
      "cell_type": "code",
      "source": [
        "#master.drop(['CapitalLoss'],axis=1,inplace=True)"
      ],
      "metadata": {
        "id": "V_H42VUGhfjV"
      },
      "execution_count": null,
      "outputs": []
    },
    {
      "cell_type": "code",
      "source": [
        "print(master.shape)\n",
        "print(test.shape)"
      ],
      "metadata": {
        "id": "ADd7AMc6izOj"
      },
      "execution_count": null,
      "outputs": []
    },
    {
      "cell_type": "code",
      "source": [
        "x=master.drop('ReportedFraud',axis=1)\n",
        "y=master['ReportedFraud']\n",
        "x.shape"
      ],
      "metadata": {
        "colab": {
          "base_uri": "https://localhost:8080/"
        },
        "id": "qpgkW35mk0py",
        "outputId": "a77f9adb-3e48-4bd8-c6cf-c27a5d825c5f"
      },
      "execution_count": 31,
      "outputs": [
        {
          "output_type": "execute_result",
          "data": {
            "text/plain": [
              "(28836, 30)"
            ]
          },
          "metadata": {},
          "execution_count": 31
        }
      ]
    },
    {
      "cell_type": "code",
      "source": [
        "x"
      ],
      "metadata": {
        "id": "K4W4TsguwI6c"
      },
      "execution_count": null,
      "outputs": []
    },
    {
      "cell_type": "code",
      "source": [
        "print(master.shape)\n",
        "print(test.shape)"
      ],
      "metadata": {
        "id": "BV2_ot9tlAl8"
      },
      "execution_count": null,
      "outputs": []
    },
    {
      "cell_type": "code",
      "source": [
        "##from sklearn.linear_model import LogisticRegression\n",
        "#logis=LogisticRegression()\n",
        "#logis.fit(x,y)"
      ],
      "metadata": {
        "id": "8ATYW46pjGbP"
      },
      "execution_count": null,
      "outputs": []
    },
    {
      "cell_type": "code",
      "source": [
        "#from sklearn.model_selection import train_test_split\n",
        "#x_train,x_test,y_train,y_test=train_test_split(x,y,test_size=0.30905,random_state=42)"
      ],
      "metadata": {
        "id": "w-ECAFLK7rz8"
      },
      "execution_count": 67,
      "outputs": []
    },
    {
      "cell_type": "code",
      "source": [
        "#y_test"
      ],
      "metadata": {
        "id": "C5BZjWCC7sFr",
        "colab": {
          "base_uri": "https://localhost:8080/"
        },
        "outputId": "c47cb1b7-b415-4738-de51-e2308646d94f"
      },
      "execution_count": 68,
      "outputs": [
        {
          "output_type": "execute_result",
          "data": {
            "text/plain": [
              "20418    0\n",
              "18027    1\n",
              "8880     1\n",
              "1288     0\n",
              "10328    1\n",
              "        ..\n",
              "27560    0\n",
              "6781     1\n",
              "1194     0\n",
              "17388    0\n",
              "1712     0\n",
              "Name: ReportedFraud, Length: 8912, dtype: int64"
            ]
          },
          "metadata": {},
          "execution_count": 68
        }
      ]
    },
    {
      "cell_type": "code",
      "source": [],
      "metadata": {
        "id": "meVvq4X5YlxW"
      },
      "execution_count": null,
      "outputs": []
    },
    {
      "cell_type": "code",
      "source": [],
      "metadata": {
        "id": "pddrlAFC7sJK"
      },
      "execution_count": null,
      "outputs": []
    },
    {
      "cell_type": "code",
      "source": [
        "from sklearn.ensemble import RandomForestClassifier\n",
        "rf=RandomForestClassifier()\n",
        "rf.fit(train_scaled,y)"
      ],
      "metadata": {
        "colab": {
          "base_uri": "https://localhost:8080/"
        },
        "id": "raMHzSBKkcpj",
        "outputId": "cb0a0782-9a21-4035-a9a6-b2d22cc286f8"
      },
      "execution_count": 108,
      "outputs": [
        {
          "output_type": "execute_result",
          "data": {
            "text/plain": [
              "RandomForestClassifier()"
            ]
          },
          "metadata": {},
          "execution_count": 108
        }
      ]
    },
    {
      "cell_type": "code",
      "source": [
        "y_pred=rf.predict(test_scaled)\n"
      ],
      "metadata": {
        "id": "gQFfC77xlKiA"
      },
      "execution_count": 109,
      "outputs": []
    },
    {
      "cell_type": "code",
      "source": [
        "y_pred"
      ],
      "metadata": {
        "colab": {
          "base_uri": "https://localhost:8080/"
        },
        "id": "_mc1BJd4qbXx",
        "outputId": "97b37669-b499-4854-b298-83bd3c47f190"
      },
      "execution_count": 110,
      "outputs": [
        {
          "output_type": "execute_result",
          "data": {
            "text/plain": [
              "array([0, 0, 0, ..., 0, 0, 0])"
            ]
          },
          "metadata": {},
          "execution_count": 110
        }
      ]
    },
    {
      "cell_type": "code",
      "source": [
        "1 in y_pred"
      ],
      "metadata": {
        "colab": {
          "base_uri": "https://localhost:8080/"
        },
        "id": "j3iV-y2AqgKV",
        "outputId": "4236bc68-086a-4ce1-94de-49fb3798736f"
      },
      "execution_count": 111,
      "outputs": [
        {
          "output_type": "execute_result",
          "data": {
            "text/plain": [
              "True"
            ]
          },
          "metadata": {},
          "execution_count": 111
        }
      ]
    },
    {
      "cell_type": "code",
      "source": [
        "cor=np.bincount(y_pred)\n",
        "print(cor[0])\n",
        "print(cor[1])"
      ],
      "metadata": {
        "colab": {
          "base_uri": "https://localhost:8080/"
        },
        "id": "9TSb9_j5qlsj",
        "outputId": "672dfdfe-c664-4765-aec7-188031578232"
      },
      "execution_count": 112,
      "outputs": [
        {
          "output_type": "stream",
          "name": "stdout",
          "text": [
            "7527\n",
            "1385\n"
          ]
        }
      ]
    },
    {
      "cell_type": "code",
      "source": [
        "result=pd.DataFrame({'CustomerID':custid,'ReportedFraud':y_pred})\n"
      ],
      "metadata": {
        "id": "67jxfh_AqsPQ"
      },
      "execution_count": 90,
      "outputs": []
    },
    {
      "cell_type": "code",
      "source": [
        "result.to_csv('barath_13.csv',index=False)"
      ],
      "metadata": {
        "id": "bhJbvjtexieR"
      },
      "execution_count": 91,
      "outputs": []
    }
  ]
}